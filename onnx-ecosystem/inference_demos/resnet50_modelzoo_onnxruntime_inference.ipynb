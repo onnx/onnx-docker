{
 "cells": [
  {
   "cell_type": "markdown",
   "metadata": {},
   "source": [
    "## Inference for ResNet 50 using ONNX Runtime\n",
    "\n",
    "This example demonstrates how to load an image classification model from the [ONNX model zoo](https://github.com/onnx/models) and confirm its accuracy based on included test data."
   ]
  },
  {
   "cell_type": "code",
   "execution_count": null,
   "metadata": {},
   "outputs": [],
   "source": [
    "import numpy as np    # we're going to use numpy to process input and output data\n",
    "import onnxruntime    # to inference ONNX models, we use the ONNX Runtime\n",
    "import onnx\n",
    "from onnx import numpy_helper\n",
    "import urllib.request"
   ]
  },
  {
   "cell_type": "code",
   "execution_count": null,
   "metadata": {},
   "outputs": [],
   "source": [
    "onnx_model_url = \"https://s3.amazonaws.com/onnx-model-zoo/resnet/resnet50v2/resnet50v2.tar.gz\"\n",
    "\n",
    "# retrieve our model from the ONNX model zoo\n",
    "urllib.request.urlretrieve(onnx_model_url, filename=\"resnet50v2.tar.gz\")\n",
    "\n",
    "!tar xvzf resnet50v2.tar.gz"
   ]
  },
  {
   "cell_type": "markdown",
   "metadata": {},
   "source": [
    "### Load sample inputs and outputs"
   ]
  },
  {
   "cell_type": "code",
   "execution_count": null,
   "metadata": {},
   "outputs": [],
   "source": [
    "test_data_dir = 'resnet50v2/test_data_set'\n",
    "test_data_num = 3"
   ]
  },
  {
   "cell_type": "code",
   "execution_count": null,
   "metadata": {},
   "outputs": [],
   "source": [
    "import glob\n",
    "import os\n",
    "\n",
    "# Load inputs\n",
    "inputs = []\n",
    "for i in range(test_data_num):\n",
    "    input_file = os.path.join(test_data_dir + '_{}'.format(i), 'input_0.pb')\n",
    "    tensor = onnx.TensorProto()\n",
    "    with open(input_file, 'rb') as f:\n",
    "        tensor.ParseFromString(f.read())\n",
    "        inputs.append(numpy_helper.to_array(tensor))\n",
    "\n",
    "print('Loaded {} inputs successfully.'.format(test_data_num))\n",
    "        \n",
    "# Load reference outputs\n",
    "\n",
    "ref_outputs = []\n",
    "for i in range(test_data_num):\n",
    "    output_file = os.path.join(test_data_dir + '_{}'.format(i), 'output_0.pb')\n",
    "    tensor = onnx.TensorProto()\n",
    "    with open(output_file, 'rb') as f:\n",
    "        tensor.ParseFromString(f.read())    \n",
    "        ref_outputs.append(numpy_helper.to_array(tensor))\n",
    "        \n",
    "print('Loaded {} reference outputs successfully.'.format(test_data_num))"
   ]
  },
  {
   "cell_type": "markdown",
   "metadata": {},
   "source": [
    "### Inference using ONNX Runtime"
   ]
  },
  {
   "cell_type": "code",
   "execution_count": null,
   "metadata": {},
   "outputs": [],
   "source": [
    "# Run the model on the backend\n",
    "session = onnxruntime.InferenceSession('resnet50v2/resnet50v2.onnx', None)\n",
    "\n",
    "# get the name of the first input of the model\n",
    "input_name = session.get_inputs()[0].name  \n",
    "\n",
    "print('Input Name:', input_name)"
   ]
  },
  {
   "cell_type": "code",
   "execution_count": null,
   "metadata": {},
   "outputs": [],
   "source": [
    "%%time\n",
    "outputs = [session.run([], {input_name: inputs[i]})[0] for i in range(test_data_num)]"
   ]
  },
  {
   "cell_type": "code",
   "execution_count": null,
   "metadata": {},
   "outputs": [],
   "source": [
    "print('Predicted {} results.'.format(len(outputs)))\n",
    "\n",
    "# Compare the results with reference outputs up to 4 decimal places\n",
    "for ref_o, o in zip(ref_outputs, outputs):\n",
    "    np.testing.assert_almost_equal(ref_o, o, 4)\n",
    "    \n",
    "print('ONNX Runtime outputs are similar to reference outputs!')"
   ]
  }
 ],
 "metadata": {
  "kernelspec": {
   "display_name": "Python 3",
   "language": "python",
   "name": "python3"
  },
  "language_info": {
   "codemirror_mode": {
    "name": "ipython",
    "version": 3
   },
   "file_extension": ".py",
   "mimetype": "text/x-python",
   "name": "python",
   "nbconvert_exporter": "python",
   "pygments_lexer": "ipython3",
   "version": "3.6.5"
  }
 },
 "nbformat": 4,
 "nbformat_minor": 2
}
